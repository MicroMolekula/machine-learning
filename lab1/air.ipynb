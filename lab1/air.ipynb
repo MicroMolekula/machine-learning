{
 "cells": [
  {
   "cell_type": "code",
   "id": "initial_id",
   "metadata": {
    "collapsed": true,
    "ExecuteTime": {
     "end_time": "2025-09-17T09:46:26.922268Z",
     "start_time": "2025-09-17T09:46:26.918528Z"
    }
   },
   "source": "import pandas as pd",
   "outputs": [],
   "execution_count": 3
  },
  {
   "metadata": {
    "ExecuteTime": {
     "end_time": "2025-09-17T09:49:33.378075Z",
     "start_time": "2025-09-17T09:49:32.521941Z"
    }
   },
   "cell_type": "code",
   "source": [
    "dataset_url = \"https://vincentarelbundock.github.io/Rdatasets/csv/datasets/airquality.csv\"\n",
    "dataset = pd.read_csv(dataset_url)"
   ],
   "id": "86cf84ead5c80fc1",
   "outputs": [],
   "execution_count": 5
  },
  {
   "metadata": {
    "ExecuteTime": {
     "end_time": "2025-09-17T09:51:59.579053Z",
     "start_time": "2025-09-17T09:51:59.568255Z"
    }
   },
   "cell_type": "code",
   "source": "print(dataset.head())",
   "id": "56c09c9da8be2787",
   "outputs": [
    {
     "name": "stdout",
     "output_type": "stream",
     "text": [
      "   rownames  Ozone  Solar.R  Wind  Temp  Month  Day\n",
      "0         1   41.0    190.0   7.4    67      5    1\n",
      "1         2   36.0    118.0   8.0    72      5    2\n",
      "2         3   12.0    149.0  12.6    74      5    3\n",
      "3         4   18.0    313.0  11.5    62      5    4\n",
      "4         5    NaN      NaN  14.3    56      5    5\n"
     ]
    }
   ],
   "execution_count": 6
  }
 ],
 "metadata": {
  "kernelspec": {
   "display_name": "Python 3",
   "language": "python",
   "name": "python3"
  },
  "language_info": {
   "codemirror_mode": {
    "name": "ipython",
    "version": 2
   },
   "file_extension": ".py",
   "mimetype": "text/x-python",
   "name": "python",
   "nbconvert_exporter": "python",
   "pygments_lexer": "ipython2",
   "version": "2.7.6"
  }
 },
 "nbformat": 4,
 "nbformat_minor": 5
}
