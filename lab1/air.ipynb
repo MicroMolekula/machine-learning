{
 "cells": [
  {
   "cell_type": "code",
   "id": "initial_id",
   "metadata": {
    "collapsed": true,
    "ExecuteTime": {
     "end_time": "2025-09-17T17:07:54.128823Z",
     "start_time": "2025-09-17T17:07:54.125105Z"
    }
   },
   "source": [
    "import pandas as pd\n",
    "import random"
   ],
   "outputs": [],
   "execution_count": 54
  },
  {
   "metadata": {
    "ExecuteTime": {
     "end_time": "2025-09-17T16:10:01.465143Z",
     "start_time": "2025-09-17T16:10:01.048822Z"
    }
   },
   "cell_type": "code",
   "source": [
    "dataset_url = \"https://vincentarelbundock.github.io/Rdatasets/csv/datasets/airquality.csv\"\n",
    "dataset = pd.read_csv(dataset_url)"
   ],
   "id": "86cf84ead5c80fc1",
   "outputs": [],
   "execution_count": 6
  },
  {
   "metadata": {
    "ExecuteTime": {
     "end_time": "2025-09-17T16:10:02.709799Z",
     "start_time": "2025-09-17T16:10:02.704034Z"
    }
   },
   "cell_type": "code",
   "source": [
    "print('Число строк в таблица:', end=' ')\n",
    "print(dataset.shape[0])"
   ],
   "id": "21a0524538dc72f5",
   "outputs": [
    {
     "name": "stdout",
     "output_type": "stream",
     "text": [
      "Число строк в таблица: 153\n"
     ]
    }
   ],
   "execution_count": 7
  },
  {
   "metadata": {
    "ExecuteTime": {
     "end_time": "2025-09-17T16:10:50.149996Z",
     "start_time": "2025-09-17T16:10:50.145681Z"
    }
   },
   "cell_type": "code",
   "source": [
    "print('Число столбцов в таблице:', end=' ')\n",
    "print(dataset.shape[1])"
   ],
   "id": "1df5d92b5a58abf",
   "outputs": [
    {
     "name": "stdout",
     "output_type": "stream",
     "text": [
      "Число столбцов в таблице: 7\n"
     ]
    }
   ],
   "execution_count": 8
  },
  {
   "metadata": {
    "ExecuteTime": {
     "end_time": "2025-09-17T16:12:12.169056Z",
     "start_time": "2025-09-17T16:12:12.154643Z"
    }
   },
   "cell_type": "code",
   "source": [
    "print('Число строк, не имеющих пропусков:', end=' ')\n",
    "print(dataset.dropna().shape[0])"
   ],
   "id": "8cd4c7fbc4da1de1",
   "outputs": [
    {
     "name": "stdout",
     "output_type": "stream",
     "text": [
      "Число строк, не имеющих пропусков: 111\n"
     ]
    }
   ],
   "execution_count": 9
  },
  {
   "metadata": {
    "ExecuteTime": {
     "end_time": "2025-09-17T16:13:26.795963Z",
     "start_time": "2025-09-17T16:13:26.786938Z"
    }
   },
   "cell_type": "code",
   "source": [
    "print('Число строк, имеющих пропуски одновременно в столбцах Ozone и Solar.R:', end=' ')\n",
    "print((dataset['Solar.R'].isnull() & dataset['Ozone'].isnull()).sum())"
   ],
   "id": "cbb503709a864a03",
   "outputs": [
    {
     "name": "stdout",
     "output_type": "stream",
     "text": [
      "Число строк, имеющих пропуски одновременно в столбцах Ozone и Solar.R: 2\n"
     ]
    }
   ],
   "execution_count": 11
  },
  {
   "metadata": {
    "ExecuteTime": {
     "end_time": "2025-09-17T16:14:52.516099Z",
     "start_time": "2025-09-17T16:14:52.507317Z"
    }
   },
   "cell_type": "code",
   "source": [
    "print('Минимальные значения в столбцах Ozone, Solar.R, Wind, Temp:')\n",
    "print(dataset[['Ozone', 'Solar.R', 'Wind', 'Temp']].min())"
   ],
   "id": "5400c20e1f91c758",
   "outputs": [
    {
     "name": "stdout",
     "output_type": "stream",
     "text": [
      "Минимальное значение в столбцах Ozone, Solar.R, Wind, Temp:\n",
      "Ozone       1.0\n",
      "Solar.R     7.0\n",
      "Wind        1.7\n",
      "Temp       56.0\n",
      "dtype: float64\n"
     ]
    }
   ],
   "execution_count": 13
  },
  {
   "metadata": {
    "ExecuteTime": {
     "end_time": "2025-09-17T16:16:14.726922Z",
     "start_time": "2025-09-17T16:16:14.716353Z"
    }
   },
   "cell_type": "code",
   "source": [
    "print('Максимальные значения в столбцах Ozone, Solar.R, Wind, Temp:')\n",
    "print(dataset[['Ozone', 'Solar.R', 'Wind', 'Temp']].max())"
   ],
   "id": "59f3c115644a7ddb",
   "outputs": [
    {
     "name": "stdout",
     "output_type": "stream",
     "text": [
      "Максимальные значения в столбцах Ozone, Solar.R, Wind, Temp:\n",
      "Ozone      168.0\n",
      "Solar.R    334.0\n",
      "Wind        20.7\n",
      "Temp        97.0\n",
      "dtype: float64\n"
     ]
    }
   ],
   "execution_count": 14
  },
  {
   "metadata": {
    "ExecuteTime": {
     "end_time": "2025-09-17T16:16:41.843702Z",
     "start_time": "2025-09-17T16:16:41.836123Z"
    }
   },
   "cell_type": "code",
   "source": [
    "print('Средние значения в столбцах Ozone, Solar.R, Wind, Temp:')\n",
    "print(dataset[['Ozone', 'Solar.R', 'Wind', 'Temp']].mean())"
   ],
   "id": "323bdcc3e93a9eda",
   "outputs": [
    {
     "name": "stdout",
     "output_type": "stream",
     "text": [
      "Средние значения в столбцах Ozone, Solar.R, Wind, Temp:\n",
      "Ozone       42.129310\n",
      "Solar.R    185.931507\n",
      "Wind         9.957516\n",
      "Temp        77.882353\n",
      "dtype: float64\n"
     ]
    }
   ],
   "execution_count": 15
  },
  {
   "metadata": {
    "ExecuteTime": {
     "end_time": "2025-09-17T16:17:32.428007Z",
     "start_time": "2025-09-17T16:17:32.420198Z"
    }
   },
   "cell_type": "code",
   "source": [
    "print(\"Среднее значение Solar.R для 5-го месяца:\", end=' ')\n",
    "print(dataset[dataset['Month'] == 5]['Solar.R'].mean())"
   ],
   "id": "97c36fda88282a1e",
   "outputs": [
    {
     "name": "stdout",
     "output_type": "stream",
     "text": [
      "Среднее значение Solar.R для 5-го месяца: 181.2962962962963\n"
     ]
    }
   ],
   "execution_count": 16
  },
  {
   "metadata": {
    "ExecuteTime": {
     "end_time": "2025-09-17T16:44:07.336746Z",
     "start_time": "2025-09-17T16:44:07.319295Z"
    }
   },
   "cell_type": "code",
   "source": [
    "def mean_air(df, factor, t_min = 60, t_max = 80):\n",
    "    filtered_df = df[(df['Temp'] >= t_min) & (df['Temp'] <= t_max)]\n",
    "    return filtered_df[factor].dropna().mean()\n",
    "\n",
    "print('mean_air для Ozone:', mean_air(dataset, 'Ozone'))\n",
    "print('mean_air для Solar.R:', mean_air(dataset, 'Solar.R'))\n",
    "print('mean_air для Wind:', mean_air(dataset, 'Wind'))\n",
    "print()\n",
    "print('mean_ait для Ozone в пределах температуры [80, 130]:', mean_air(dataset, 'Ozone', t_min = 80, t_max = 130))\n",
    "print('mean_ait для Solar.R в пределах температуры [60, 100]:', mean_air(dataset, 'Solar.R', t_max = 100))\n",
    "print('mean_ait для Wind в пределах температуры [40, 100]:', mean_air(dataset, 'Wind', t_min = 40, t_max = 100))"
   ],
   "id": "9a971a617ce846fc",
   "outputs": [
    {
     "name": "stdout",
     "output_type": "stream",
     "text": [
      "mean_air для Ozone: 23.775862068965516\n",
      "mean_air для Solar.R: 173.97333333333333\n",
      "mean_air для Wind: 10.812987012987014\n",
      "\n",
      "mean_ait для Ozone в пределах температуры [80, 130]: 62.3859649122807\n",
      "mean_ait для Solar.R в пределах температуры [60, 100]: 189.74285714285713\n",
      "mean_ait для Wind в пределах температуры [40, 100]: 9.957516339869281\n"
     ]
    }
   ],
   "execution_count": 43
  },
  {
   "metadata": {
    "ExecuteTime": {
     "end_time": "2025-09-17T16:50:37.462199Z",
     "start_time": "2025-09-17T16:50:37.447913Z"
    }
   },
   "cell_type": "code",
   "source": [
    "for month in dataset['Month'].dropna().unique():\n",
    "    print(f\"Среднее значение Solar.R для месяца {month}:\", dataset[dataset['Month'] == month]['Solar.R'].mean())"
   ],
   "id": "f1f56b9886d720",
   "outputs": [
    {
     "name": "stdout",
     "output_type": "stream",
     "text": [
      "Среднее значение Solar.R для месяца 5: 181.2962962962963\n",
      "Среднее значение Solar.R для месяца 6: 190.16666666666666\n",
      "Среднее значение Solar.R для месяца 7: 216.48387096774192\n",
      "Среднее значение Solar.R для месяца 8: 171.85714285714286\n",
      "Среднее значение Solar.R для месяца 9: 167.43333333333334\n"
     ]
    }
   ],
   "execution_count": 45
  },
  {
   "metadata": {
    "ExecuteTime": {
     "end_time": "2025-09-17T17:00:30.272842Z",
     "start_time": "2025-09-17T17:00:30.251076Z"
    }
   },
   "cell_type": "code",
   "source": [
    "def max_temp(df, days = 1):\n",
    "    result_df = df.sort_values(by='Temp', ascending=False).head(days)[['Month', 'Day']]\n",
    "    return (result_df['Month'].astype(str) + '/' + result_df['Day'].astype(str)).tolist()\n",
    "\n",
    "print('max_temp для 1 days:', max_temp(dataset))\n",
    "print('max_temp для 2 days:', max_temp(dataset, 2))\n",
    "print('max_temp для 3 days:', max_temp(dataset, 3))"
   ],
   "id": "cb499ef702ae264c",
   "outputs": [
    {
     "name": "stdout",
     "output_type": "stream",
     "text": [
      "max_temp для 1 days: ['8/28']\n",
      "max_temp для 2 days: ['8/28', '8/30']\n",
      "max_temp для 3 days: ['8/28', '8/30', '8/29']\n"
     ]
    }
   ],
   "execution_count": 48
  },
  {
   "metadata": {
    "ExecuteTime": {
     "end_time": "2025-09-17T17:08:22.719678Z",
     "start_time": "2025-09-17T17:08:22.713439Z"
    }
   },
   "cell_type": "code",
   "source": [
    "def test_set(df, perc = 20):\n",
    "    if not 0 <= perc <= 100:\n",
    "        raise ValueError('Параметр perc должен быть в диапозоне [0; 100]')\n",
    "    set_rate = perc / 100.0\n",
    "    return df.sample(frac=set_rate, random_state=random.randint(1, 100))"
   ],
   "id": "96833c6b01ad2bd2",
   "outputs": [],
   "execution_count": 55
  },
  {
   "metadata": {
    "ExecuteTime": {
     "end_time": "2025-09-17T17:10:23.313625Z",
     "start_time": "2025-09-17T17:10:23.298935Z"
    }
   },
   "cell_type": "code",
   "source": [
    "# Тестовая выборка пример 1\n",
    "test_set1 = test_set(dataset)\n",
    "print(\"Количество строк:\", test_set1.shape[0])\n",
    "print(test_set1.head())"
   ],
   "id": "547a0cdd44602554",
   "outputs": [
    {
     "name": "stdout",
     "output_type": "stream",
     "text": [
      "Количество строк: 31\n",
      "     rownames  Ozone  Solar.R  Wind  Temp  Month  Day\n",
      "88         89   82.0    213.0   7.4    88      7   28\n",
      "126       127   91.0    189.0   4.6    93      9    4\n",
      "45         46    NaN    322.0  11.5    79      6   15\n",
      "11         12   16.0    256.0   9.7    69      5   12\n",
      "52         53    NaN     59.0   1.7    76      6   22\n"
     ]
    }
   ],
   "execution_count": 63
  },
  {
   "metadata": {
    "ExecuteTime": {
     "end_time": "2025-09-17T17:10:41.847075Z",
     "start_time": "2025-09-17T17:10:41.834776Z"
    }
   },
   "cell_type": "code",
   "source": [
    "# Тестовая выборка пример 2\n",
    "test_set1 = test_set(dataset, 50)\n",
    "print(\"Количество строк:\", test_set1.shape[0])\n",
    "print(test_set1.head())"
   ],
   "id": "ed3b12273e50db3d",
   "outputs": [
    {
     "name": "stdout",
     "output_type": "stream",
     "text": [
      "Количество строк: 76\n",
      "     rownames  Ozone  Solar.R  Wind  Temp  Month  Day\n",
      "32         33    NaN    287.0   9.7    74      6    2\n",
      "11         12   16.0    256.0   9.7    69      5   12\n",
      "107       108   22.0     71.0  10.3    77      8   16\n",
      "80         81   63.0    220.0  11.5    85      7   20\n",
      "95         96   78.0      NaN   6.9    86      8    4\n"
     ]
    }
   ],
   "execution_count": 65
  },
  {
   "metadata": {
    "ExecuteTime": {
     "end_time": "2025-09-17T17:11:07.434814Z",
     "start_time": "2025-09-17T17:11:07.372622Z"
    }
   },
   "cell_type": "code",
   "source": [
    "# Проверка ошибки в функции test_set\n",
    "test_set1 = test_set(dataset, -1)"
   ],
   "id": "1964ce021a749cf4",
   "outputs": [
    {
     "ename": "ValueError",
     "evalue": "Параметр perc должен быть в диапозоне [0; 100]",
     "output_type": "error",
     "traceback": [
      "\u001B[31m---------------------------------------------------------------------------\u001B[39m",
      "\u001B[31mValueError\u001B[39m                                Traceback (most recent call last)",
      "\u001B[36mCell\u001B[39m\u001B[36m \u001B[39m\u001B[32mIn[66]\u001B[39m\u001B[32m, line 2\u001B[39m\n\u001B[32m      1\u001B[39m \u001B[38;5;66;03m# Проверка ошибки в функции test_set\u001B[39;00m\n\u001B[32m----> \u001B[39m\u001B[32m2\u001B[39m test_set1 = \u001B[43mtest_set\u001B[49m\u001B[43m(\u001B[49m\u001B[43mdataset\u001B[49m\u001B[43m,\u001B[49m\u001B[43m \u001B[49m\u001B[43m-\u001B[49m\u001B[32;43m1\u001B[39;49m\u001B[43m)\u001B[49m\n",
      "\u001B[36mCell\u001B[39m\u001B[36m \u001B[39m\u001B[32mIn[55]\u001B[39m\u001B[32m, line 3\u001B[39m, in \u001B[36mtest_set\u001B[39m\u001B[34m(df, perc)\u001B[39m\n\u001B[32m      1\u001B[39m \u001B[38;5;28;01mdef\u001B[39;00m\u001B[38;5;250m \u001B[39m\u001B[34mtest_set\u001B[39m(df, perc = \u001B[32m20\u001B[39m):\n\u001B[32m      2\u001B[39m     \u001B[38;5;28;01mif\u001B[39;00m \u001B[38;5;129;01mnot\u001B[39;00m \u001B[32m0\u001B[39m <= perc <= \u001B[32m100\u001B[39m:\n\u001B[32m----> \u001B[39m\u001B[32m3\u001B[39m         \u001B[38;5;28;01mraise\u001B[39;00m \u001B[38;5;167;01mValueError\u001B[39;00m(\u001B[33m'\u001B[39m\u001B[33mПараметр perc должен быть в диапозоне [0; 100]\u001B[39m\u001B[33m'\u001B[39m)\n\u001B[32m      4\u001B[39m     set_rate = perc / \u001B[32m100.0\u001B[39m\n\u001B[32m      5\u001B[39m     \u001B[38;5;28;01mreturn\u001B[39;00m df.sample(frac=set_rate, random_state=random.randint(\u001B[32m1\u001B[39m, \u001B[32m100\u001B[39m))\n",
      "\u001B[31mValueError\u001B[39m: Параметр perc должен быть в диапозоне [0; 100]"
     ]
    }
   ],
   "execution_count": 66
  }
 ],
 "metadata": {
  "kernelspec": {
   "display_name": "Python 3",
   "language": "python",
   "name": "python3"
  },
  "language_info": {
   "codemirror_mode": {
    "name": "ipython",
    "version": 2
   },
   "file_extension": ".py",
   "mimetype": "text/x-python",
   "name": "python",
   "nbconvert_exporter": "python",
   "pygments_lexer": "ipython2",
   "version": "2.7.6"
  }
 },
 "nbformat": 4,
 "nbformat_minor": 5
}
