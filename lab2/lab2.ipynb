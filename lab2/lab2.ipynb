{
 "cells": [
  {
   "cell_type": "code",
   "id": "49e3d3d5",
   "metadata": {
    "ExecuteTime": {
     "end_time": "2025-09-30T15:55:00.236865Z",
     "start_time": "2025-09-30T15:55:00.233092Z"
    }
   },
   "source": [
    "import le\n",
    "import pandas as pd"
   ],
   "outputs": [],
   "execution_count": 2
  },
  {
   "metadata": {
    "ExecuteTime": {
     "end_time": "2025-09-30T16:24:41.478031Z",
     "start_time": "2025-09-30T16:24:41.473330Z"
    }
   },
   "cell_type": "code",
   "source": [
    "from sklearn.naive_bayes import GaussianNB\n",
    "from sklearn.metrics import confusion_matrix, classification_report, accuracy_score\n",
    "import matplotlib.pyplot as plt\n",
    "import seaborn as sns\n",
    "from sklearn.metrics import accuracy_score, classification_report\n",
    "from sklearn.preprocessing import LabelEncoder"
   ],
   "id": "6f887376b2eebcfd",
   "outputs": [],
   "execution_count": 43
  },
  {
   "cell_type": "code",
   "id": "c941ca89",
   "metadata": {
    "ExecuteTime": {
     "end_time": "2025-09-30T15:55:34.075310Z",
     "start_time": "2025-09-30T15:55:31.802039Z"
    }
   },
   "source": [
    "from ucimlrepo import fetch_ucirepo \n",
    "\n",
    "# fetch dataset \n",
    "iris = fetch_ucirepo(id=53) "
   ],
   "outputs": [],
   "execution_count": 4
  },
  {
   "cell_type": "code",
   "id": "e01bca91",
   "metadata": {
    "ExecuteTime": {
     "end_time": "2025-09-30T15:55:37.396567Z",
     "start_time": "2025-09-30T15:55:37.391914Z"
    }
   },
   "source": [
    "# data (as pandas dataframes) \n",
    "X = iris.data.features \n",
    "y = iris.data.targets \n",
    "dataset = iris.data.original\n",
    "# metadata \n",
    "print(iris.metadata) \n"
   ],
   "outputs": [
    {
     "name": "stdout",
     "output_type": "stream",
     "text": [
      "{'uci_id': 53, 'name': 'Iris', 'repository_url': 'https://archive.ics.uci.edu/dataset/53/iris', 'data_url': 'https://archive.ics.uci.edu/static/public/53/data.csv', 'abstract': 'A small classic dataset from Fisher, 1936. One of the earliest known datasets used for evaluating classification methods.\\n', 'area': 'Biology', 'tasks': ['Classification'], 'characteristics': ['Tabular'], 'num_instances': 150, 'num_features': 4, 'feature_types': ['Real'], 'demographics': [], 'target_col': ['class'], 'index_col': None, 'has_missing_values': 'no', 'missing_values_symbol': None, 'year_of_dataset_creation': 1936, 'last_updated': 'Tue Sep 12 2023', 'dataset_doi': '10.24432/C56C76', 'creators': ['R. A. Fisher'], 'intro_paper': {'ID': 191, 'type': 'NATIVE', 'title': 'The Iris data set: In search of the source of virginica', 'authors': 'A. Unwin, K. Kleinman', 'venue': 'Significance, 2021', 'year': 2021, 'journal': 'Significance, 2021', 'DOI': '1740-9713.01589', 'URL': 'https://www.semanticscholar.org/paper/4599862ea877863669a6a8e63a3c707a787d5d7e', 'sha': None, 'corpus': None, 'arxiv': None, 'mag': None, 'acl': None, 'pmid': None, 'pmcid': None}, 'additional_info': {'summary': 'This is one of the earliest datasets used in the literature on classification methods and widely used in statistics and machine learning.  The data set contains 3 classes of 50 instances each, where each class refers to a type of iris plant.  One class is linearly separable from the other 2; the latter are not linearly separable from each other.\\n\\nPredicted attribute: class of iris plant.\\n\\nThis is an exceedingly simple domain.\\n\\nThis data differs from the data presented in Fishers article (identified by Steve Chadwick,  spchadwick@espeedaz.net ).  The 35th sample should be: 4.9,3.1,1.5,0.2,\"Iris-setosa\" where the error is in the fourth feature. The 38th sample: 4.9,3.6,1.4,0.1,\"Iris-setosa\" where the errors are in the second and third features.  ', 'purpose': 'N/A', 'funded_by': None, 'instances_represent': 'Each instance is a plant', 'recommended_data_splits': None, 'sensitive_data': None, 'preprocessing_description': None, 'variable_info': None, 'citation': None}}\n"
     ]
    }
   ],
   "execution_count": 5
  },
  {
   "cell_type": "code",
   "execution_count": 16,
   "id": "04c26759",
   "metadata": {},
   "outputs": [
    {
     "name": "stdout",
     "output_type": "stream",
     "text": [
      "     sepal length  sepal width  petal length  petal width           class\n",
      "0             5.1          3.5           1.4          0.2     Iris-setosa\n",
      "1             4.9          3.0           1.4          0.2     Iris-setosa\n",
      "2             4.7          3.2           1.3          0.2     Iris-setosa\n",
      "3             4.6          3.1           1.5          0.2     Iris-setosa\n",
      "4             5.0          3.6           1.4          0.2     Iris-setosa\n",
      "..            ...          ...           ...          ...             ...\n",
      "145           6.7          3.0           5.2          2.3  Iris-virginica\n",
      "146           6.3          2.5           5.0          1.9  Iris-virginica\n",
      "147           6.5          3.0           5.2          2.0  Iris-virginica\n",
      "148           6.2          3.4           5.4          2.3  Iris-virginica\n",
      "149           5.9          3.0           5.1          1.8  Iris-virginica\n",
      "\n",
      "[150 rows x 5 columns]\n"
     ]
    }
   ],
   "source": [
    "print(dataset)"
   ]
  },
  {
   "cell_type": "markdown",
   "id": "4fbfe7ed",
   "metadata": {},
   "source": [
    "# Задание 2 (Разделение данных на обучающие и тестовые)"
   ]
  },
  {
   "cell_type": "code",
   "id": "80b245f9",
   "metadata": {
    "ExecuteTime": {
     "end_time": "2025-09-30T15:57:38.109491Z",
     "start_time": "2025-09-30T15:57:38.096548Z"
    }
   },
   "source": [
    "train_indices = dataset.sample(frac=0.8, random_state=42).index\n",
    "\n",
    "# Создаем маску для разделения\n",
    "train_mask = dataset.index.isin(train_indices)\n",
    "\n",
    "# Разделяем данные\n",
    "train_dataset = dataset[train_mask]\n",
    "test_dataset = dataset[~train_mask]"
   ],
   "outputs": [],
   "execution_count": 6
  },
  {
   "cell_type": "code",
   "id": "33eb0f04",
   "metadata": {
    "ExecuteTime": {
     "end_time": "2025-09-30T15:57:51.559553Z",
     "start_time": "2025-09-30T15:57:51.555689Z"
    }
   },
   "source": [
    "print(\"Количество строк в обучающем множестве: \",train_dataset.shape[0])"
   ],
   "outputs": [
    {
     "name": "stdout",
     "output_type": "stream",
     "text": [
      "Количество строк в обучающем множестве:  120\n"
     ]
    }
   ],
   "execution_count": 7
  },
  {
   "cell_type": "code",
   "id": "318849e5",
   "metadata": {
    "ExecuteTime": {
     "end_time": "2025-09-30T15:58:01.102293Z",
     "start_time": "2025-09-30T15:58:01.086475Z"
    }
   },
   "source": [
    "print(\"Количество объектов в каждом классе:\\n \",train_dataset['class'].value_counts())"
   ],
   "outputs": [
    {
     "name": "stdout",
     "output_type": "stream",
     "text": [
      "Количество объектов в каждом классе:\n",
      "  class\n",
      "Iris-setosa        43\n",
      "Iris-versicolor    39\n",
      "Iris-virginica     38\n",
      "Name: count, dtype: int64\n"
     ]
    }
   ],
   "execution_count": 8
  },
  {
   "cell_type": "code",
   "id": "901887e4",
   "metadata": {
    "ExecuteTime": {
     "end_time": "2025-09-30T15:58:16.253006Z",
     "start_time": "2025-09-30T15:58:16.246938Z"
    }
   },
   "source": [
    "print(\"Количество пропущенных значений: \\n\",train_dataset.isnull().sum())"
   ],
   "outputs": [
    {
     "name": "stdout",
     "output_type": "stream",
     "text": [
      "Количество пропущенных значений: \n",
      " sepal length    0\n",
      "sepal width     0\n",
      "petal length    0\n",
      "petal width     0\n",
      "class           0\n",
      "dtype: int64\n"
     ]
    }
   ],
   "execution_count": 9
  },
  {
   "cell_type": "code",
   "id": "f5b08ef1",
   "metadata": {
    "ExecuteTime": {
     "end_time": "2025-09-30T15:58:20.151141Z",
     "start_time": "2025-09-30T15:58:20.145757Z"
    }
   },
   "source": [
    "print(\"Максимальное значение для параметра: \\n\",train_dataset.max())"
   ],
   "outputs": [
    {
     "name": "stdout",
     "output_type": "stream",
     "text": [
      "Максимальное значение для параметра: \n",
      " sepal length               7.9\n",
      "sepal width                4.4\n",
      "petal length               6.9\n",
      "petal width                2.5\n",
      "class           Iris-virginica\n",
      "dtype: object\n"
     ]
    }
   ],
   "execution_count": 10
  },
  {
   "cell_type": "code",
   "id": "ac039fd8",
   "metadata": {
    "ExecuteTime": {
     "end_time": "2025-09-30T15:58:23.550171Z",
     "start_time": "2025-09-30T15:58:23.544648Z"
    }
   },
   "source": [
    "print(\"Максимальное значение для параметра: \\n\",train_dataset.min())"
   ],
   "outputs": [
    {
     "name": "stdout",
     "output_type": "stream",
     "text": [
      "Максимальное значение для параметра: \n",
      " sepal length            4.3\n",
      "sepal width             2.0\n",
      "petal length            1.0\n",
      "petal width             0.1\n",
      "class           Iris-setosa\n",
      "dtype: object\n"
     ]
    }
   ],
   "execution_count": 11
  },
  {
   "cell_type": "code",
   "id": "0caf6597",
   "metadata": {
    "ExecuteTime": {
     "end_time": "2025-09-30T15:59:08.388926Z",
     "start_time": "2025-09-30T15:59:08.383432Z"
    }
   },
   "source": "print(\"Среднее значение для параметра: \\n\",train_dataset.drop('class',axis=1).mean())",
   "outputs": [
    {
     "name": "stdout",
     "output_type": "stream",
     "text": [
      "Среднее значение для параметра: \n",
      " sepal length    5.803333\n",
      "sepal width     3.074167\n",
      "petal length    3.669167\n",
      "petal width     1.171667\n",
      "dtype: float64\n"
     ]
    }
   ],
   "execution_count": 13
  },
  {
   "cell_type": "code",
   "id": "01710b16",
   "metadata": {
    "ExecuteTime": {
     "end_time": "2025-09-30T16:28:56.089446Z",
     "start_time": "2025-09-30T16:28:56.078814Z"
    }
   },
   "source": [
    "import numpy as np\n",
    "from sklearn.model_selection import train_test_split\n",
    "\n",
    "le = LabelEncoder()\n",
    "y_encoded = np.squeeze( le.fit_transform(y))\n",
    "X_train, X_test, y_train, y_test = train_test_split(\n",
    "    X, np.squeeze(y_encoded), test_size=0.2, random_state=42\n",
    ")\n",
    "\n",
    "model = GaussianNB()\n",
    "\n",
    "model.fit(X_train, y_train)\n",
    "\n",
    "# Предсказания для обучающего и тестового множеств\n",
    "y_train_pred = model.predict(X_train)\n",
    "y_test_pred = model.predict(X_test)\n"
   ],
   "outputs": [
    {
     "name": "stderr",
     "output_type": "stream",
     "text": [
      "C:\\Users\\maksk\\PyCharmMiscProject\\.venv\\Lib\\site-packages\\sklearn\\preprocessing\\_label.py:110: DataConversionWarning: A column-vector y was passed when a 1d array was expected. Please change the shape of y to (n_samples, ), for example using ravel().\n",
      "  y = column_or_1d(y, warn=True)\n"
     ]
    }
   ],
   "execution_count": 54
  },
  {
   "metadata": {
    "ExecuteTime": {
     "end_time": "2025-09-30T16:29:02.759947Z",
     "start_time": "2025-09-30T16:29:02.382156Z"
    }
   },
   "cell_type": "code",
   "source": [
    "# Таблица классификации для обучающего множества\n",
    "train_cm = confusion_matrix(y_train, y_train_pred)\n",
    "print(\"ТАБЛИЦА КЛАССИФИКАЦИИ - ОБУЧАЮЩЕЕ МНОЖЕСТВО:\")\n",
    "print(train_cm)\n",
    "print()\n",
    "\n",
    "# Таблица классификации для тестового множества\n",
    "test_cm = confusion_matrix(y_test, y_test_pred)\n",
    "print(\"ТАБЛИЦА КЛАССИФИКАЦИИ - ТЕСТОВОЕ МНОЖЕСТВО:\")\n",
    "print(test_cm)\n",
    "print()\n",
    "\n",
    "# Визуализация таблиц классификации\n",
    "fig, (ax1, ax2) = plt.subplots(1, 2, figsize=(15, 6))\n",
    "\n",
    "# Обучающее множество\n",
    "sns.heatmap(train_cm, annot=True, fmt='d', cmap='Blues',\n",
    "            xticklabels=le.classes_, yticklabels=le.classes_, ax=ax1)\n",
    "ax1.set_title('Confusion Matrix - Обучающее множество')\n",
    "ax1.set_xlabel('Предсказанный класс')\n",
    "ax1.set_ylabel('Истинный класс')\n",
    "\n",
    "# Тестовое множество\n",
    "sns.heatmap(test_cm, annot=True, fmt='d', cmap='Blues',\n",
    "            xticklabels=le.classes_, yticklabels=le.classes_, ax=ax2)\n",
    "ax2.set_title('Confusion Matrix - Тестовое множество')\n",
    "ax2.set_xlabel('Предсказанный класс')\n",
    "ax2.set_ylabel('Истинный класс')\n",
    "\n",
    "plt.tight_layout()\n",
    "plt.show()"
   ],
   "id": "beb113ce3bbc7759",
   "outputs": [
    {
     "name": "stdout",
     "output_type": "stream",
     "text": [
      "ТАБЛИЦА КЛАССИФИКАЦИИ - ОБУЧАЮЩЕЕ МНОЖЕСТВО:\n",
      "[[40  0  0]\n",
      " [ 0 38  3]\n",
      " [ 0  3 36]]\n",
      "\n",
      "ТАБЛИЦА КЛАССИФИКАЦИИ - ТЕСТОВОЕ МНОЖЕСТВО:\n",
      "[[10  0  0]\n",
      " [ 0  9  0]\n",
      " [ 0  0 11]]\n",
      "\n"
     ]
    },
    {
     "data": {
      "text/plain": [
       "<Figure size 1500x600 with 4 Axes>"
      ],
      "image/png": "[encoded data removed]"
     },
     "metadata": {},
     "output_type": "display_data",
     "jetTransient": {
      "display_id": null
     }
    }
   ],
   "execution_count": 55
  },
  {
   "metadata": {
    "ExecuteTime": {
     "end_time": "2025-09-30T16:31:25.844916Z",
     "start_time": "2025-09-30T16:31:25.838569Z"
    }
   },
   "cell_type": "code",
   "source": [
    "def calculate_metrics(cm, class_names):\n",
    "    \"\"\"\n",
    "    Расчет метрик классификации из confusion matrix\n",
    "    \"\"\"\n",
    "    metrics = {}\n",
    "    total = np.sum(cm)\n",
    "\n",
    "    # Общая точность и уровень ошибки\n",
    "    accuracy = np.trace(cm) / total\n",
    "    error_rate = 1 - accuracy\n",
    "\n",
    "    metrics['Overall_Accuracy'] = accuracy\n",
    "    metrics['Overall_Error_Rate'] = error_rate\n",
    "\n",
    "    # Метрики для каждого класса\n",
    "    class_metrics = {}\n",
    "    for i, class_name in enumerate(class_names):\n",
    "        TP = cm[i, i]\n",
    "        FP = np.sum(cm[:, i]) - TP\n",
    "        FN = np.sum(cm[i, :]) - TP\n",
    "        TN = total - TP - FP - FN\n",
    "\n",
    "        # Точность (Precision)\n",
    "        precision = TP / (TP + FP) if (TP + FP) > 0 else 0\n",
    "\n",
    "        # Чувствительность (Recall/Sensitivity)\n",
    "        sensitivity = TP / (TP + FN) if (TP + FN) > 0 else 0\n",
    "\n",
    "        # Специфичность (Specificity)\n",
    "        specificity = TN / (TN + FP) if (TN + FP) > 0 else 0\n",
    "\n",
    "        class_metrics[class_name] = {\n",
    "            'Precision': precision,\n",
    "            'Sensitivity': sensitivity,\n",
    "            'Specificity': specificity,\n",
    "            'TP': TP,\n",
    "            'FP': FP,\n",
    "            'FN': FN,\n",
    "            'TN': TN\n",
    "        }\n",
    "\n",
    "    metrics['Class_Metrics'] = class_metrics\n",
    "    return metrics\n",
    "\n",
    "# Расчет метрик для обучающего множества\n",
    "train_metrics = calculate_metrics(train_cm, le.classes_)\n",
    "test_metrics = calculate_metrics(test_cm, le.classes_)"
   ],
   "id": "c105e51315f97bc2",
   "outputs": [],
   "execution_count": 56
  },
  {
   "metadata": {
    "ExecuteTime": {
     "end_time": "2025-09-30T16:31:34.611064Z",
     "start_time": "2025-09-30T16:31:34.595819Z"
    }
   },
   "cell_type": "code",
   "source": [
    "# Вывод характеристик для обучающего множества\n",
    "print(\"=\" * 60)\n",
    "print(\"ХАРАКТЕРИСТИКИ КЛАССИФИКАЦИИ - ОБУЧАЮЩЕЕ МНОЖЕСТВО\")\n",
    "print(\"=\" * 60)\n",
    "print(f\"Точность классификации: {train_metrics['Overall_Accuracy']:.4f}\")\n",
    "print(f\"Уровень ошибки: {train_metrics['Overall_Error_Rate']:.4f}\")\n",
    "print(\"\\nМетрики по классам:\")\n",
    "for class_name in le.classes_:\n",
    "    metrics = train_metrics['Class_Metrics'][class_name]\n",
    "    print(f\"\\n{class_name}:\")\n",
    "    print(f\"  Точность (Precision): {metrics['Precision']:.4f}\")\n",
    "    print(f\"  Чувствительность (Sensitivity): {metrics['Sensitivity']:.4f}\")\n",
    "    print(f\"  Специфичность (Specificity): {metrics['Specificity']:.4f}\")\n",
    "\n",
    "print(\"\\n\" + \"=\" * 60)\n",
    "print(\"ХАРАКТЕРИСТИКИ КЛАССИФИКАЦИИ - ТЕСТОВОЕ МНОЖЕСТВО\")\n",
    "print(\"=\" * 60)\n",
    "print(f\"Точность классификации: {test_metrics['Overall_Accuracy']:.4f}\")\n",
    "print(f\"Уровень ошибки: {test_metrics['Overall_Error_Rate']:.4f}\")\n",
    "print(\"\\nМетрики по классам:\")\n",
    "for class_name in le.classes_:\n",
    "    metrics = test_metrics['Class_Metrics'][class_name]\n",
    "    print(f\"\\n{class_name}:\")\n",
    "    print(f\"  Точность (Precision): {metrics['Precision']:.4f}\")\n",
    "    print(f\"  Чувствительность (Sensitivity): {metrics['Sensitivity']:.4f}\")\n",
    "    print(f\"  Специфичность (Specificity): {metrics['Specificity']:.4f}\")"
   ],
   "id": "1b0bb96b69f3d573",
   "outputs": [
    {
     "name": "stdout",
     "output_type": "stream",
     "text": [
      "============================================================\n",
      "ХАРАКТЕРИСТИКИ КЛАССИФИКАЦИИ - ОБУЧАЮЩЕЕ МНОЖЕСТВО\n",
      "============================================================\n",
      "Точность классификации: 0.9500\n",
      "Уровень ошибки: 0.0500\n",
      "\n",
      "Метрики по классам:\n",
      "\n",
      "Iris-setosa:\n",
      "  Точность (Precision): 1.0000\n",
      "  Чувствительность (Sensitivity): 1.0000\n",
      "  Специфичность (Specificity): 1.0000\n",
      "\n",
      "Iris-versicolor:\n",
      "  Точность (Precision): 0.9268\n",
      "  Чувствительность (Sensitivity): 0.9268\n",
      "  Специфичность (Specificity): 0.9620\n",
      "\n",
      "Iris-virginica:\n",
      "  Точность (Precision): 0.9231\n",
      "  Чувствительность (Sensitivity): 0.9231\n",
      "  Специфичность (Specificity): 0.9630\n",
      "\n",
      "============================================================\n",
      "ХАРАКТЕРИСТИКИ КЛАССИФИКАЦИИ - ТЕСТОВОЕ МНОЖЕСТВО\n",
      "============================================================\n",
      "Точность классификации: 1.0000\n",
      "Уровень ошибки: 0.0000\n",
      "\n",
      "Метрики по классам:\n",
      "\n",
      "Iris-setosa:\n",
      "  Точность (Precision): 1.0000\n",
      "  Чувствительность (Sensitivity): 1.0000\n",
      "  Специфичность (Specificity): 1.0000\n",
      "\n",
      "Iris-versicolor:\n",
      "  Точность (Precision): 1.0000\n",
      "  Чувствительность (Sensitivity): 1.0000\n",
      "  Специфичность (Specificity): 1.0000\n",
      "\n",
      "Iris-virginica:\n",
      "  Точность (Precision): 1.0000\n",
      "  Чувствительность (Sensitivity): 1.0000\n",
      "  Специфичность (Specificity): 1.0000\n"
     ]
    }
   ],
   "execution_count": 57
  }
 ],
 "metadata": {
  "kernelspec": {
   "display_name": "Python 3 (ipykernel)",
   "language": "python",
   "name": "python3"
  },
  "language_info": {
   "codemirror_mode": {
    "name": "ipython",
    "version": 3
   },
   "file_extension": ".py",
   "mimetype": "text/x-python",
   "name": "python",
   "nbconvert_exporter": "python",
   "pygments_lexer": "ipython3",
   "version": "3.12.3"
  }
 },
 "nbformat": 4,
 "nbformat_minor": 5
}
